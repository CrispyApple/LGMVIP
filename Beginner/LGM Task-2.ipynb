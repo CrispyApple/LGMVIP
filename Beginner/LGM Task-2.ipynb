{
 "cells": [
  {
   "cell_type": "markdown",
   "id": "7794f215",
   "metadata": {},
   "source": [
    "# Task-4 : Image to Pencil Sketch with Python"
   ]
  },
  {
   "cell_type": "code",
   "execution_count": 1,
   "id": "88334bbf",
   "metadata": {},
   "outputs": [],
   "source": [
    "import cv2 as cv"
   ]
  },
  {
   "cell_type": "markdown",
   "id": "7b7f5727",
   "metadata": {},
   "source": [
    "# Reading an image"
   ]
  },
  {
   "cell_type": "code",
   "execution_count": 2,
   "id": "4231edc8",
   "metadata": {},
   "outputs": [
    {
     "data": {
      "text/plain": [
       "-1"
      ]
     },
     "execution_count": 2,
     "metadata": {},
     "output_type": "execute_result"
    }
   ],
   "source": [
    "img=cv.imread(\"dog.jpg\")\n",
    "cv.imshow(\"Dog\",img)\n",
    "cv.waitKey(0)"
   ]
  },
  {
   "cell_type": "markdown",
   "id": "daec1801",
   "metadata": {},
   "source": [
    "# ![](dog.jpg)"
   ]
  },
  {
   "cell_type": "markdown",
   "id": "3e0e97c9",
   "metadata": {},
   "source": [
    "# #Converting image to Grayscale image"
   ]
  },
  {
   "cell_type": "code",
   "execution_count": 3,
   "id": "b9544c6e",
   "metadata": {},
   "outputs": [
    {
     "data": {
      "text/plain": [
       "-1"
      ]
     },
     "execution_count": 3,
     "metadata": {},
     "output_type": "execute_result"
    }
   ],
   "source": [
    "gray_image = cv.cvtColor(img,cv.COLOR_BGR2GRAY)\n",
    "cv.imshow(\"Dog\", gray_image)\n",
    "cv.waitKey(0)"
   ]
  },
  {
   "cell_type": "markdown",
   "id": "7974c00c",
   "metadata": {},
   "source": [
    "![](gray_dog.jpg)"
   ]
  },
  {
   "cell_type": "markdown",
   "id": "805703d1",
   "metadata": {},
   "source": [
    "# #Grayscale Inversion"
   ]
  },
  {
   "cell_type": "code",
   "execution_count": 4,
   "id": "3eb8f5e1",
   "metadata": {},
   "outputs": [
    {
     "data": {
      "text/plain": [
       "-1"
      ]
     },
     "execution_count": 4,
     "metadata": {},
     "output_type": "execute_result"
    }
   ],
   "source": [
    "inv_image = 255 - gray_image\n",
    "cv.imshow(\"Inverted\", inv_image)\n",
    "cv.waitKey()"
   ]
  },
  {
   "cell_type": "markdown",
   "id": "3ea10c86",
   "metadata": {},
   "source": [
    "![](inv_dog.jpg)"
   ]
  },
  {
   "cell_type": "markdown",
   "id": "3980dc39",
   "metadata": {},
   "source": [
    "# #Gaussian Blurr\n"
   ]
  },
  {
   "cell_type": "code",
   "execution_count": 7,
   "id": "bdaf3c1f",
   "metadata": {},
   "outputs": [],
   "source": [
    "blurred = cv.GaussianBlur(inv_image,(21,21),0)"
   ]
  },
  {
   "cell_type": "code",
   "execution_count": 8,
   "id": "d54f9a15",
   "metadata": {},
   "outputs": [
    {
     "data": {
      "text/plain": [
       "-1"
      ]
     },
     "execution_count": 8,
     "metadata": {},
     "output_type": "execute_result"
    }
   ],
   "source": [
    "inv_blurred = 255 - blurred\n",
    "pencil_sketch = cv.divide(gray_image, inv_blurred, scale=256.0)\n",
    "cv.imshow(\"Sketch\", pencil_sketch)\n",
    "cv.waitKey(0)"
   ]
  },
  {
   "cell_type": "markdown",
   "id": "b116d5ac",
   "metadata": {},
   "source": [
    "![](pen_dog.jpg)"
   ]
  },
  {
   "cell_type": "code",
   "execution_count": null,
   "id": "85a0ec1c",
   "metadata": {},
   "outputs": [],
   "source": []
  }
 ],
 "metadata": {
  "kernelspec": {
   "display_name": "Python 3",
   "language": "python",
   "name": "python3"
  },
  "language_info": {
   "codemirror_mode": {
    "name": "ipython",
    "version": 3
   },
   "file_extension": ".py",
   "mimetype": "text/x-python",
   "name": "python",
   "nbconvert_exporter": "python",
   "pygments_lexer": "ipython3",
   "version": "3.8.8"
  }
 },
 "nbformat": 4,
 "nbformat_minor": 5
}
